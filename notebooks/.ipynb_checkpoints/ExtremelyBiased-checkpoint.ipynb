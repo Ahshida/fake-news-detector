{
 "cells": [
  {
   "cell_type": "code",
   "execution_count": 1,
   "metadata": {
    "collapsed": false,
    "deletable": true,
    "editable": true
   },
   "outputs": [],
   "source": [
    "import pandas as pd\n",
    "\n",
    "df = pd.read_json(\"http://fake-news-detector-api.herokuapp.com/links/all\")"
   ]
  },
  {
   "cell_type": "code",
   "execution_count": 203,
   "metadata": {
    "collapsed": false,
    "deletable": true,
    "editable": true
   },
   "outputs": [
    {
     "name": "stdout",
     "output_type": "stream",
     "text": [
      "Number of biased samples 44\n"
     ]
    }
   ],
   "source": [
    "from sklearn.model_selection import train_test_split\n",
    "\n",
    "df.dropna(subset=[\"title\"], inplace=True)\n",
    "\n",
    "df[\"is_biased\"] = [cid == 4 for cid in df[\"category_id\"]]\n",
    "\n",
    "X = df[\"title\"]\n",
    "y = df[\"is_biased\"]\n",
    "\n",
    "print(\"Number of biased samples\", len(df[df[\"is_biased\"] == True]))"
   ]
  },
  {
   "cell_type": "code",
   "execution_count": 395,
   "metadata": {
    "collapsed": false,
    "deletable": true,
    "editable": true
   },
   "outputs": [
    {
     "name": "stdout",
     "output_type": "stream",
     "text": [
      "accuracy 0.58 f1 0.556 positive_recall 0.843 total weighted 2.821 MultinomialNB\n",
      "accuracy 0.836 f1 0.735 positive_recall 0.522 total weighted 2.615 BernoulliNB\n",
      "accuracy 0.665 f1 0.626 positive_recall 0.768 total weighted 2.827 MultiLayerPerceptron\n",
      "accuracy 0.594 f1 0.562 positive_recall 0.782 total weighted 2.719 KNN\n",
      "accuracy 0.671 f1 0.621 positive_recall 0.708 total weighted 2.708 SGDClassifier\n",
      "accuracy 0.785 f1 0.63 positive_recall 0.343 total weighted 2.101 RandomForest\n",
      "accuracy 0.712 f1 0.628 positive_recall 0.551 total weighted 2.442 DecisionTreeClassifier\n",
      "accuracy 0.774 f1 0.693 positive_recall 0.645 total weighted 2.756 SVC\n"
     ]
    }
   ],
   "source": [
    "from sklearn.feature_extraction.text import CountVectorizer\n",
    "from sklearn.feature_extraction.text import TfidfTransformer\n",
    "from sklearn.naive_bayes import MultinomialNB, BernoulliNB\n",
    "from sklearn.tree import DecisionTreeClassifier\n",
    "from sklearn.neighbors import KNeighborsClassifier\n",
    "from imblearn.under_sampling import RandomUnderSampler\n",
    "from imblearn.pipeline import Pipeline\n",
    "from sklearn.ensemble import RandomForestClassifier, ExtraTreesClassifier, GradientBoostingClassifier, AdaBoostClassifier, VotingClassifier\n",
    "from sklearn.linear_model import SGDClassifier\n",
    "from sklearn.svm import SVC\n",
    "from sklearn.neural_network import MLPClassifier\n",
    "\n",
    "def test_classifier(clf_):\n",
    "    X_train, X_test, y_train, y_test = train_test_split(X, y)\n",
    "    \n",
    "    pipeline = Pipeline([\n",
    "        ('vect', CountVectorizer()),\n",
    "        ('tfidf', TfidfTransformer()),\n",
    "        ('sampling', RandomUnderSampler()),\n",
    "        ('clf', clf_)\n",
    "    ])\n",
    "    \n",
    "    clf = pipeline.fit(X_train, y_train)\n",
    "    accuracy = clf.score(X_test, y_test)\n",
    "    \n",
    "    y_pred = clf.predict(X_test)\n",
    "    avg_f1 = (f1_score(y_test, y_pred, pos_label=False) + f1_score(y_test, y_pred)) / 2\n",
    "    positive_recall = recall_score(y_test, y_pred)\n",
    "    \n",
    "    return accuracy, avg_f1, positive_recall\n",
    "    \n",
    "    \n",
    "def test_classifier_avg(name, clf):\n",
    "    times = 50\n",
    "    total_accuracy = 0\n",
    "    total_f1 = 0\n",
    "    total_positive_recall = 0\n",
    "    \n",
    "    for i in range(0, times):\n",
    "        accuracy, f1, positive_recall = test_classifier(clf)\n",
    "        total_accuracy += accuracy\n",
    "        total_f1 += f1\n",
    "        total_positive_recall += positive_recall\n",
    "    \n",
    "    print(\"accuracy\", round(total_accuracy / times, 3),\n",
    "          \"f1\", round(total_f1 / times, 3),\n",
    "          \"positive_recall\", round(total_positive_recall / times, 3),\n",
    "          \"total weighted\", round((total_accuracy + total_f1 + total_positive_recall * 2) / times, 3),\n",
    "          name\n",
    "         )\n",
    "\n",
    "\n",
    "test_classifier_avg(\"MultinomialNB\", MultinomialNB())\n",
    "test_classifier_avg(\"BernoulliNB\", BernoulliNB())\n",
    "test_classifier_avg(\"MultiLayerPerceptron\", MLPClassifier(solver='adam', max_iter=1000))\n",
    "test_classifier_avg(\"KNN\", KNeighborsClassifier())\n",
    "test_classifier_avg(\"SGDClassifier\", SGDClassifier(max_iter=1000))\n",
    "test_classifier_avg(\"RandomForest\", RandomForestClassifier())\n",
    "test_classifier_avg(\"DecisionTreeClassifier\", DecisionTreeClassifier())\n",
    "test_classifier_avg(\"SVC\", SVC(kernel='rbf', probability=True))\n",
    "# test_classifier_avg(\"VotingClassifier\", VotingClassifier(estimators=[\n",
    "#             ('MultinomialNB', MultinomialNB()),\n",
    "#             (\"MultiLayerPerceptron\", MLPClassifier(solver='adam', max_iter=1000)),\n",
    "#             (\"SVC\", SVC(kernel='rbf', probability=True))\n",
    "#         ]))\n",
    "# test_classifier_avg(\"VotingClassifier2\", VotingClassifier(estimators=[\n",
    "#             ('MultinomialNB', MultinomialNB()),\n",
    "#             (\"MultiLayerPerceptron\", MLPClassifier(solver='adam', max_iter=1000)),\n",
    "#             (\"SDG\", SGDClassifier(max_iter=1000))\n",
    "#         ]))"
   ]
  },
  {
   "cell_type": "code",
   "execution_count": 391,
   "metadata": {
    "collapsed": false,
    "deletable": true,
    "editable": true
   },
   "outputs": [
    {
     "name": "stdout",
     "output_type": "stream",
     "text": [
      "Best score 0.52973168963\n",
      "clf__activation: 'tanh'\n",
      "clf__solver: 'lbfgs'\n"
     ]
    }
   ],
   "source": [
    "from sklearn.model_selection import GridSearchCV\n",
    "from sklearn.metrics import classification_report, confusion_matrix, f1_score, make_scorer\n",
    "\n",
    "X_train, X_test, y_train, y_test = train_test_split(X, y)\n",
    "\n",
    "pipeline = Pipeline([\n",
    "    ('vect', CountVectorizer(ngram_range=(2,2))),\n",
    "    ('tfidf', TfidfTransformer(use_idf=True)),\n",
    "    ('sampling', RandomUnderSampler()),\n",
    "    ('clf', MLPClassifier(max_iter=10000, solver=\"adam\", activation=\"relu\"))\n",
    "])\n",
    "\n",
    "parameters = {'clf__solver': [\"lbfgs\", \"sgd\", \"adam\"],\n",
    "              'clf__activation': [\"relu\", \"tanh\"],\n",
    "}\n",
    "\n",
    "def my_custom_loss_func(y_test, y_pred):\n",
    "    return (f1_score(y_test, y_pred, pos_label=False) + f1_score(y_test, y_pred)) / 2 + recall_score(y_test, y_pred)\n",
    "\n",
    "scoring = make_scorer(my_custom_loss_func, greater_is_better=True)\n",
    "\n",
    "gs_clf = GridSearchCV(pipeline, parameters, n_jobs=-1, scoring=scoring)\n",
    "gs_clf = gs_clf.fit(X, y)\n",
    "\n",
    "print(\"Best score\", gs_clf.best_score_)\n",
    "\n",
    "for param_name in sorted(parameters.keys()):\n",
    "    print(\"%s: %r\" % (param_name, gs_clf.best_params_[param_name]))"
   ]
  },
  {
   "cell_type": "code",
   "execution_count": 418,
   "metadata": {
    "collapsed": false
   },
   "outputs": [
    {
     "name": "stdout",
     "output_type": "stream",
     "text": [
      "Best score 0.144670050761\n",
      "clf: KNeighborsClassifier(algorithm='auto', leaf_size=30, metric='minkowski',\n",
      "           metric_params=None, n_jobs=1, n_neighbors=5, p=2,\n",
      "           weights='uniform')\n"
     ]
    }
   ],
   "source": [
    "def my_custom_loss_func(y_test, y_pred):\n",
    "    return (f1_score(y_test, y_pred, pos_label=False) + f1_score(y_test, y_pred)) / 2 + recall_score(y_test, y_pred)\n",
    "\n",
    "scoring = make_scorer(my_custom_loss_func, greater_is_better=True)\n",
    "\n",
    "pipeline = Pipeline([\n",
    "    ('vect', CountVectorizer(ngram_range=(2,2))),\n",
    "    ('tfidf', TfidfTransformer(use_idf=True)),\n",
    "    ('clf', SVC(kernel='rbf', probability=True))\n",
    "])\n",
    "\n",
    "parameters = {'clf': [\n",
    "    SVC(),\n",
    "    KNeighborsClassifier(),\n",
    "    MultinomialNB(),\n",
    "    BernoulliNB(),\n",
    "#     MLPClassifier(max_iter=1000),\n",
    "    SGDClassifier(max_iter=1000),\n",
    "    RandomForestClassifier()\n",
    "]}\n",
    "\n",
    "gs_clf = GridSearchCV(pipeline, parameters, n_jobs=-1, cv=30, scoring=\"recall\")\n",
    "gs_clf = gs_clf.fit(X, y)\n",
    "\n",
    "print(\"Best score\", gs_clf.best_score_)\n",
    "\n",
    "for param_name in sorted(parameters.keys()):\n",
    "    print(\"%s: %r\" % (param_name, gs_clf.best_params_[param_name]))"
   ]
  },
  {
   "cell_type": "code",
   "execution_count": null,
   "metadata": {
    "collapsed": true
   },
   "outputs": [],
   "source": []
  }
 ],
 "metadata": {
  "kernelspec": {
   "display_name": "Python 3",
   "language": "python",
   "name": "python3"
  },
  "language_info": {
   "codemirror_mode": {
    "name": "ipython",
    "version": 3
   },
   "file_extension": ".py",
   "mimetype": "text/x-python",
   "name": "python",
   "nbconvert_exporter": "python",
   "pygments_lexer": "ipython3",
   "version": "3.6.1"
  }
 },
 "nbformat": 4,
 "nbformat_minor": 2
}
