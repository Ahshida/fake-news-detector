{
 "cells": [
  {
   "cell_type": "code",
   "execution_count": 1,
   "metadata": {
    "collapsed": false,
    "deletable": true,
    "editable": true
   },
   "outputs": [
    {
     "data": {
      "text/html": [
       "<div>\n",
       "<style>\n",
       "    .dataframe thead tr:only-child th {\n",
       "        text-align: right;\n",
       "    }\n",
       "\n",
       "    .dataframe thead th {\n",
       "        text-align: left;\n",
       "    }\n",
       "\n",
       "    .dataframe tbody tr th {\n",
       "        vertical-align: top;\n",
       "    }\n",
       "</style>\n",
       "<table border=\"1\" class=\"dataframe\">\n",
       "  <thead>\n",
       "    <tr style=\"text-align: right;\">\n",
       "      <th></th>\n",
       "      <th>Unnamed: 0</th>\n",
       "      <th>category_id</th>\n",
       "      <th>content</th>\n",
       "      <th>count</th>\n",
       "      <th>id</th>\n",
       "      <th>title</th>\n",
       "      <th>url</th>\n",
       "      <th>verified_category_id</th>\n",
       "    </tr>\n",
       "  </thead>\n",
       "  <tbody>\n",
       "    <tr>\n",
       "      <th>0</th>\n",
       "      <td>0</td>\n",
       "      <td>2</td>\n",
       "      <td>\\n</td>\n",
       "      <td>1</td>\n",
       "      <td>1272</td>\n",
       "      <td>fake news google - Recherche Google</td>\n",
       "      <td>https://www.google.fr/search?client=firefox-b&amp;...</td>\n",
       "      <td>NaN</td>\n",
       "    </tr>\n",
       "    <tr>\n",
       "      <th>1</th>\n",
       "      <td>1</td>\n",
       "      <td>2</td>\n",
       "      <td>\\n</td>\n",
       "      <td>1</td>\n",
       "      <td>1271</td>\n",
       "      <td>fake news google - Recherche Google</td>\n",
       "      <td>https://www.google.fr/search?client=firefox-b&amp;...</td>\n",
       "      <td>NaN</td>\n",
       "    </tr>\n",
       "    <tr>\n",
       "      <th>2</th>\n",
       "      <td>2</td>\n",
       "      <td>1</td>\n",
       "      <td>O processo de germinação do Instituto Gênesis ...</td>\n",
       "      <td>1</td>\n",
       "      <td>1270</td>\n",
       "      <td>Notícias | Instituto Gênesis</td>\n",
       "      <td>http://www.genesis.puc-rio.br/noticias/detalhe...</td>\n",
       "      <td>NaN</td>\n",
       "    </tr>\n",
       "    <tr>\n",
       "      <th>3</th>\n",
       "      <td>3</td>\n",
       "      <td>6</td>\n",
       "      <td>Pediu uma pizza, ganhou a segunda! 😍😍😍 Simples...</td>\n",
       "      <td>1</td>\n",
       "      <td>1269</td>\n",
       "      <td>Pediu uma pizza, ganhou a segunda! 😍😍😍</td>\n",
       "      <td>https://www.facebook.com/artezianforneria/phot...</td>\n",
       "      <td>NaN</td>\n",
       "    </tr>\n",
       "    <tr>\n",
       "      <th>4</th>\n",
       "      <td>4</td>\n",
       "      <td>1</td>\n",
       "      <td>\\n</td>\n",
       "      <td>1</td>\n",
       "      <td>1268</td>\n",
       "      <td>Testing Microservices, the sane way – Cindy Sr...</td>\n",
       "      <td>https://t.co/M77kp8eRUn</td>\n",
       "      <td>NaN</td>\n",
       "    </tr>\n",
       "    <tr>\n",
       "      <th>5</th>\n",
       "      <td>5</td>\n",
       "      <td>4</td>\n",
       "      <td>O Estado não gosta de concorrência ;)</td>\n",
       "      <td>1</td>\n",
       "      <td>1267</td>\n",
       "      <td>O Estado não gosta de concorrência ;)</td>\n",
       "      <td>https://www.facebook.com/rankingdospoliticos/p...</td>\n",
       "      <td>NaN</td>\n",
       "    </tr>\n",
       "    <tr>\n",
       "      <th>6</th>\n",
       "      <td>6</td>\n",
       "      <td>6</td>\n",
       "      <td>Só entre os dois? Se eu tiver que escolher só ...</td>\n",
       "      <td>1</td>\n",
       "      <td>1266</td>\n",
       "      <td>Só entre os dois? Se eu tiver que escolher só ...</td>\n",
       "      <td>https://www.facebook.com/neto.joaobatista/post...</td>\n",
       "      <td>NaN</td>\n",
       "    </tr>\n",
       "    <tr>\n",
       "      <th>7</th>\n",
       "      <td>7</td>\n",
       "      <td>1</td>\n",
       "      <td>Bitcoin's price dipped below $8,000 for the fi...</td>\n",
       "      <td>1</td>\n",
       "      <td>1265</td>\n",
       "      <td>Bitcoin price drops below $8,000 for first tim...</td>\n",
       "      <td>https://www.cnbc.com/2018/02/02/bitcoin-price-...</td>\n",
       "      <td>NaN</td>\n",
       "    </tr>\n",
       "    <tr>\n",
       "      <th>8</th>\n",
       "      <td>8</td>\n",
       "      <td>1</td>\n",
       "      <td>Over $100 billion was wiped off the global cry...</td>\n",
       "      <td>1</td>\n",
       "      <td>1264</td>\n",
       "      <td>Over $100 billion wiped off global cryptocurre...</td>\n",
       "      <td>https://www.cnbc.com/2018/02/02/bitcoin-ethere...</td>\n",
       "      <td>NaN</td>\n",
       "    </tr>\n",
       "    <tr>\n",
       "      <th>9</th>\n",
       "      <td>9</td>\n",
       "      <td>5</td>\n",
       "      <td>A nova moda entre as celebridades e famosas no...</td>\n",
       "      <td>1</td>\n",
       "      <td>1263</td>\n",
       "      <td>Mulher é proibida pela Justiça de curtir o ver...</td>\n",
       "      <td>http://www.sensacionalista.com.br/2018/02/02/m...</td>\n",
       "      <td>NaN</td>\n",
       "    </tr>\n",
       "  </tbody>\n",
       "</table>\n",
       "</div>"
      ],
      "text/plain": [
       "   Unnamed: 0  category_id                                            content  \\\n",
       "0           0            2                                                 \\n   \n",
       "1           1            2                                                 \\n   \n",
       "2           2            1  O processo de germinação do Instituto Gênesis ...   \n",
       "3           3            6  Pediu uma pizza, ganhou a segunda! 😍😍😍 Simples...   \n",
       "4           4            1                                                 \\n   \n",
       "5           5            4              O Estado não gosta de concorrência ;)   \n",
       "6           6            6  Só entre os dois? Se eu tiver que escolher só ...   \n",
       "7           7            1  Bitcoin's price dipped below $8,000 for the fi...   \n",
       "8           8            1  Over $100 billion was wiped off the global cry...   \n",
       "9           9            5  A nova moda entre as celebridades e famosas no...   \n",
       "\n",
       "   count    id                                              title  \\\n",
       "0      1  1272                fake news google - Recherche Google   \n",
       "1      1  1271                fake news google - Recherche Google   \n",
       "2      1  1270                       Notícias | Instituto Gênesis   \n",
       "3      1  1269             Pediu uma pizza, ganhou a segunda! 😍😍😍   \n",
       "4      1  1268  Testing Microservices, the sane way – Cindy Sr...   \n",
       "5      1  1267              O Estado não gosta de concorrência ;)   \n",
       "6      1  1266  Só entre os dois? Se eu tiver que escolher só ...   \n",
       "7      1  1265  Bitcoin price drops below $8,000 for first tim...   \n",
       "8      1  1264  Over $100 billion wiped off global cryptocurre...   \n",
       "9      1  1263  Mulher é proibida pela Justiça de curtir o ver...   \n",
       "\n",
       "                                                 url  verified_category_id  \n",
       "0  https://www.google.fr/search?client=firefox-b&...                   NaN  \n",
       "1  https://www.google.fr/search?client=firefox-b&...                   NaN  \n",
       "2  http://www.genesis.puc-rio.br/noticias/detalhe...                   NaN  \n",
       "3  https://www.facebook.com/artezianforneria/phot...                   NaN  \n",
       "4                            https://t.co/M77kp8eRUn                   NaN  \n",
       "5  https://www.facebook.com/rankingdospoliticos/p...                   NaN  \n",
       "6  https://www.facebook.com/neto.joaobatista/post...                   NaN  \n",
       "7  https://www.cnbc.com/2018/02/02/bitcoin-price-...                   NaN  \n",
       "8  https://www.cnbc.com/2018/02/02/bitcoin-ethere...                   NaN  \n",
       "9  http://www.sensacionalista.com.br/2018/02/02/m...                   NaN  "
      ]
     },
     "execution_count": 1,
     "metadata": {},
     "output_type": "execute_result"
    }
   ],
   "source": [
    "import pandas as pd\n",
    "\n",
    "df = pd.read_csv(\"../links.csv\")\n",
    "\n",
    "df[0:10]"
   ]
  },
  {
   "cell_type": "code",
   "execution_count": 40,
   "metadata": {
    "collapsed": true,
    "deletable": true,
    "editable": true
   },
   "outputs": [],
   "source": [
    "from imblearn.under_sampling import RandomUnderSampler\n",
    "\n",
    "def undersample_data(X, y):\n",
    "    columns = X.columns.values.tolist()\n",
    "\n",
    "    X, y = RandomUnderSampler(random_state=123, ratio='all').fit_sample(\n",
    "        X.values.tolist(), y.values.tolist())\n",
    "    X = pd.DataFrame(X, columns=columns)\n",
    "\n",
    "    return X, y"
   ]
  },
  {
   "cell_type": "code",
   "execution_count": 145,
   "metadata": {
    "collapsed": false,
    "deletable": true,
    "editable": true
   },
   "outputs": [
    {
     "data": {
      "text/plain": [
       "'\"Pela primeira vez na história as pessoas têm uma chance real de tirar o poder dos governos\" -https://goo.gl/ffHCgR Sei que é fake, mas achei interessante, o que acham?\"Pela primeira vez na história as pessoas têm uma chance real de tirar o poder dos governos\" -https://goo.gl/ffHCgR Sei que é fake, mas achei interessante, o que acham?'"
      ]
     },
     "execution_count": 145,
     "metadata": {},
     "output_type": "execute_result"
    }
   ],
   "source": [
    "df[\"is_fake_news\"] = [\n",
    "    category_id == 2\n",
    "    for category_id in df[\"category_id\"]\n",
    "]\n",
    "\n",
    "df.dropna(subset=[\"title\", \"content\"], inplace=True, how=\"all\")\n",
    "\n",
    "X = df[[\"title\", \"content\"]]\n",
    "y = df[\"is_fake_news\"]\n",
    "\n",
    "X, y = undersample_data(X, y)\n",
    "\n",
    "X[\"title_content\"] = X[\"title\"] + X[\"content\"]\n",
    "X = X[\"title_content\"].values.tolist()\n",
    "\n",
    "X[0]"
   ]
  },
  {
   "cell_type": "code",
   "execution_count": 254,
   "metadata": {
    "collapsed": false,
    "deletable": true,
    "editable": true
   },
   "outputs": [
    {
     "data": {
      "text/plain": [
       "0.60526315789473684"
      ]
     },
     "execution_count": 254,
     "metadata": {},
     "output_type": "execute_result"
    }
   ],
   "source": [
    "from sklearn.model_selection import train_test_split\n",
    "from sklearn.preprocessing import FunctionTransformer\n",
    "from sklearn.feature_extraction.text import TfidfVectorizer\n",
    "from sklearn.naive_bayes import MultinomialNB\n",
    "from imblearn.pipeline import Pipeline\n",
    "\n",
    "pipeline = Pipeline([\n",
    "    ('tfidf', TfidfVectorizer(strip_accents='ascii', lowercase=True, ngram_range=(1, 3),\n",
    "                max_df=0.5,\n",
    "                min_df=5,\n",
    "                use_idf=True)),\n",
    "    ('sampling', RandomUnderSampler(random_state=123)),\n",
    "    ('clf', MultinomialNB(fit_prior=False)),\n",
    "])\n",
    "\n",
    "X_train, X_test, y_train, y_test = train_test_split(X, y, random_state=1)\n",
    "\n",
    "model = pipeline.fit(X_train, y_train)\n",
    "accuracy = model.score(X_test, y_test)\n",
    "\n",
    "accuracy"
   ]
  },
  {
   "cell_type": "code",
   "execution_count": 277,
   "metadata": {
    "collapsed": false,
    "deletable": true,
    "editable": true
   },
   "outputs": [
    {
     "name": "stdout",
     "output_type": "stream",
     "text": [
      "Um escândalo sem precedentes.  Marcos Feliciano e combina com Jair Bolsonaro como ajudar Eduardo Cunha a entrar com pedido de impeachment sem correr risco de perderem o processo. No mesmo áudio Feliciano,admite que estaria com um grupo, blindando e salvando a pele de Eduardo Cunha, para que ele ajudasse a derrubar Dilma Rousseff.Um escândalo sem precedentes.  Marcos Feliciano e combina com Jair Bolsonaro como ajudar Eduardo Cunha a entrar com pedido de impeachment sem correr risco de perderem o processo. No mesmo áudio Feliciano,admite que estaria com um grupo, blindando e salvando a pele de Eduardo Cunha, para que ele ajudasse a derrubar Dilma Rousseff.\n",
      "True\n"
     ]
    },
    {
     "data": {
      "text/plain": [
       "array([[ 0.58084212,  0.41915788]])"
      ]
     },
     "execution_count": 277,
     "metadata": {},
     "output_type": "execute_result"
    }
   ],
   "source": [
    "idx = 6\n",
    "\n",
    "print(X_test[idx])\n",
    "print(y_test[idx])\n",
    "\n",
    "model.predict_proba([X_test[idx]])"
   ]
  },
  {
   "cell_type": "code",
   "execution_count": 278,
   "metadata": {
    "collapsed": true,
    "deletable": true,
    "editable": true
   },
   "outputs": [],
   "source": [
    "from lime.lime_text import LimeTextExplainer\n",
    "\n",
    "class_names = [\"normal\", \"fake news\"]\n",
    "explainer = LimeTextExplainer(class_names=class_names)"
   ]
  },
  {
   "cell_type": "code",
   "execution_count": 298,
   "metadata": {
    "collapsed": false,
    "deletable": true,
    "editable": true
   },
   "outputs": [
    {
     "name": "stderr",
     "output_type": "stream",
     "text": [
      "/Users/rchaves/tensorflow/lib/python3.6/re.py:212: FutureWarning: split() requires a non-empty pattern match.\n",
      "  return _compile(pattern, flags).split(string, maxsplit)\n"
     ]
    },
    {
     "name": "stdout",
     "output_type": "stream",
     "text": [
      "Document id: 6\n",
      "Probability(fake news) = 0.434624361252\n",
      "True class: fake news\n"
     ]
    }
   ],
   "source": [
    "text = \"\"\"\n",
    "Boa tarde pessoal, recebemos mais um alerta de ataque virtual, ele começou 2 horas atrás na Russia e Ucrânia, assim como o último ataque global, deve atingir o Brasil de hoje para amanhã.\n",
    "\n",
    "O ataque começa quando você recebe uma mensagem oferecendo uma atualização do software Adobe Flash Player, por tanto, não façam essa atualização. Aos que tem filhos, não esqueçam de repassar essa mesma orientação.\n",
    "\"\"\"\n",
    "\n",
    "exp = explainer.explain_instance(text, model.predict_proba, num_features=30)\n",
    "print('Document id: %d' % idx)\n",
    "print('Probability(fake news) =', model.predict_proba([text])[0,1])\n",
    "print('True class: %s' % class_names[y_test[idx]])"
   ]
  },
  {
   "cell_type": "code",
   "execution_count": 299,
   "metadata": {
    "collapsed": false,
    "deletable": true,
    "editable": true
   },
   "outputs": [
    {
     "data": {
      "text/plain": [
       "[('último', -0.025288100623264996),\n",
       " ('na', -0.020199089313106728),\n",
       " ('uma', 0.016592085256321172),\n",
       " ('mesma', -0.015691168403918595),\n",
       " ('Aos', 0.015455837963110201),\n",
       " ('como', -0.014965801230799958),\n",
       " ('não', 0.010784137036698992),\n",
       " ('um', -0.010314378390061534),\n",
       " ('tem', 0.0091767835294347139),\n",
       " ('que', -0.0082844135024110963),\n",
       " ('para', -0.0062873531606388372),\n",
       " ('filhos', 0.0061748738091924266),\n",
       " ('deve', -0.0059057161886681845),\n",
       " ('do', 0.0051932260479860834),\n",
       " ('mais', 0.0047741575970449718),\n",
       " ('tanto', 0.0046706157997898415),\n",
       " ('você', 0.0041090326494874763),\n",
       " ('por', 0.0037657177563328562),\n",
       " ('quando', -0.003679664519356903),\n",
       " ('ele', -0.0032310979637943014),\n",
       " ('essa', -0.0031725790934742418),\n",
       " ('assim', -0.00279355163410938),\n",
       " ('hoje', 0.002393584174736894),\n",
       " ('alerta', -0.0023694201147779295),\n",
       " ('de', -0.0018534346048503833),\n",
       " ('atrás', -0.0013580910105006985),\n",
       " ('Boa', -0.00087735508567016532),\n",
       " ('façam', -0.00040537810960455457),\n",
       " ('o', -0.00037664692506698825),\n",
       " ('esqueçam', 0.00034662247901032575)]"
      ]
     },
     "execution_count": 299,
     "metadata": {},
     "output_type": "execute_result"
    }
   ],
   "source": [
    "exp.as_list()"
   ]
  },
  {
   "cell_type": "code",
   "execution_count": 309,
   "metadata": {
    "collapsed": false,
    "deletable": true,
    "editable": true
   },
   "outputs": [
    {
     "name": "stdout",
     "output_type": "stream",
     "text": [
      "Stopwords found: 18\n",
      "Not stopwords:\n"
     ]
    },
    {
     "data": {
      "text/plain": [
       "[('último', -0.025288100623264996),\n",
       " ('mesma', -0.015691168403918595),\n",
       " ('filhos', 0.0061748738091924266),\n",
       " ('deve', -0.0059057161886681845),\n",
       " ('tanto', 0.0046706157997898415),\n",
       " ('assim', -0.00279355163410938),\n",
       " ('hoje', 0.002393584174736894),\n",
       " ('alerta', -0.0023694201147779295),\n",
       " ('atrás', -0.0013580910105006985),\n",
       " ('Boa', -0.00087735508567016532),\n",
       " ('façam', -0.00040537810960455457),\n",
       " ('esqueçam', 0.00034662247901032575)]"
      ]
     },
     "execution_count": 309,
     "metadata": {},
     "output_type": "execute_result"
    }
   ],
   "source": [
    "from nltk.corpus import stopwords\n",
    "\n",
    "stopwords = stopwords.words('portuguese')\n",
    "\n",
    "exp_list = exp.as_list()\n",
    "not_stopwords = [ (word, chance) for (word, chance) in exp_list if word.lower() not in stopwords ]\n",
    "stopwords = [ (word, chance) for (word, chance) in exp_list if word.lower() in stopwords ]\n",
    "\n",
    "print(\"Stopwords found:\", len(stopwords))\n",
    "\n",
    "print(\"Not stopwords:\")\n",
    "not_stopwords"
   ]
  },
  {
   "cell_type": "code",
   "execution_count": null,
   "metadata": {
    "collapsed": true
   },
   "outputs": [],
   "source": []
  }
 ],
 "metadata": {
  "kernelspec": {
   "display_name": "Python 3",
   "language": "python",
   "name": "python3"
  },
  "language_info": {
   "codemirror_mode": {
    "name": "ipython",
    "version": 3
   },
   "file_extension": ".py",
   "mimetype": "text/x-python",
   "name": "python",
   "nbconvert_exporter": "python",
   "pygments_lexer": "ipython3",
   "version": "3.6.1"
  }
 },
 "nbformat": 4,
 "nbformat_minor": 2
}
