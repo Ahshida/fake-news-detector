{
 "cells": [
  {
   "cell_type": "code",
   "execution_count": 1,
   "metadata": {
    "collapsed": false
   },
   "outputs": [
    {
     "data": {
      "text/html": [
       "<div>\n",
       "<style>\n",
       "    .dataframe thead tr:only-child th {\n",
       "        text-align: right;\n",
       "    }\n",
       "\n",
       "    .dataframe thead th {\n",
       "        text-align: left;\n",
       "    }\n",
       "\n",
       "    .dataframe tbody tr th {\n",
       "        vertical-align: top;\n",
       "    }\n",
       "</style>\n",
       "<table border=\"1\" class=\"dataframe\">\n",
       "  <thead>\n",
       "    <tr style=\"text-align: right;\">\n",
       "      <th></th>\n",
       "      <th>Unnamed: 0</th>\n",
       "      <th>category_id</th>\n",
       "      <th>content</th>\n",
       "      <th>count</th>\n",
       "      <th>id</th>\n",
       "      <th>title</th>\n",
       "      <th>url</th>\n",
       "      <th>verified_category_id</th>\n",
       "    </tr>\n",
       "  </thead>\n",
       "  <tbody>\n",
       "    <tr>\n",
       "      <th>0</th>\n",
       "      <td>0</td>\n",
       "      <td>2</td>\n",
       "      <td>\\n</td>\n",
       "      <td>1</td>\n",
       "      <td>1272</td>\n",
       "      <td>fake news google - Recherche Google</td>\n",
       "      <td>https://www.google.fr/search?client=firefox-b&amp;...</td>\n",
       "      <td>NaN</td>\n",
       "    </tr>\n",
       "    <tr>\n",
       "      <th>1</th>\n",
       "      <td>1</td>\n",
       "      <td>2</td>\n",
       "      <td>\\n</td>\n",
       "      <td>1</td>\n",
       "      <td>1271</td>\n",
       "      <td>fake news google - Recherche Google</td>\n",
       "      <td>https://www.google.fr/search?client=firefox-b&amp;...</td>\n",
       "      <td>NaN</td>\n",
       "    </tr>\n",
       "    <tr>\n",
       "      <th>2</th>\n",
       "      <td>2</td>\n",
       "      <td>1</td>\n",
       "      <td>O processo de germinação do Instituto Gênesis ...</td>\n",
       "      <td>1</td>\n",
       "      <td>1270</td>\n",
       "      <td>Notícias | Instituto Gênesis</td>\n",
       "      <td>http://www.genesis.puc-rio.br/noticias/detalhe...</td>\n",
       "      <td>NaN</td>\n",
       "    </tr>\n",
       "    <tr>\n",
       "      <th>3</th>\n",
       "      <td>3</td>\n",
       "      <td>6</td>\n",
       "      <td>Pediu uma pizza, ganhou a segunda! 😍😍😍 Simples...</td>\n",
       "      <td>1</td>\n",
       "      <td>1269</td>\n",
       "      <td>Pediu uma pizza, ganhou a segunda! 😍😍😍</td>\n",
       "      <td>https://www.facebook.com/artezianforneria/phot...</td>\n",
       "      <td>NaN</td>\n",
       "    </tr>\n",
       "    <tr>\n",
       "      <th>4</th>\n",
       "      <td>4</td>\n",
       "      <td>1</td>\n",
       "      <td>\\n</td>\n",
       "      <td>1</td>\n",
       "      <td>1268</td>\n",
       "      <td>Testing Microservices, the sane way – Cindy Sr...</td>\n",
       "      <td>https://t.co/M77kp8eRUn</td>\n",
       "      <td>NaN</td>\n",
       "    </tr>\n",
       "    <tr>\n",
       "      <th>5</th>\n",
       "      <td>5</td>\n",
       "      <td>4</td>\n",
       "      <td>O Estado não gosta de concorrência ;)</td>\n",
       "      <td>1</td>\n",
       "      <td>1267</td>\n",
       "      <td>O Estado não gosta de concorrência ;)</td>\n",
       "      <td>https://www.facebook.com/rankingdospoliticos/p...</td>\n",
       "      <td>NaN</td>\n",
       "    </tr>\n",
       "    <tr>\n",
       "      <th>6</th>\n",
       "      <td>6</td>\n",
       "      <td>6</td>\n",
       "      <td>Só entre os dois? Se eu tiver que escolher só ...</td>\n",
       "      <td>1</td>\n",
       "      <td>1266</td>\n",
       "      <td>Só entre os dois? Se eu tiver que escolher só ...</td>\n",
       "      <td>https://www.facebook.com/neto.joaobatista/post...</td>\n",
       "      <td>NaN</td>\n",
       "    </tr>\n",
       "    <tr>\n",
       "      <th>7</th>\n",
       "      <td>7</td>\n",
       "      <td>1</td>\n",
       "      <td>Bitcoin's price dipped below $8,000 for the fi...</td>\n",
       "      <td>1</td>\n",
       "      <td>1265</td>\n",
       "      <td>Bitcoin price drops below $8,000 for first tim...</td>\n",
       "      <td>https://www.cnbc.com/2018/02/02/bitcoin-price-...</td>\n",
       "      <td>NaN</td>\n",
       "    </tr>\n",
       "    <tr>\n",
       "      <th>8</th>\n",
       "      <td>8</td>\n",
       "      <td>1</td>\n",
       "      <td>Over $100 billion was wiped off the global cry...</td>\n",
       "      <td>1</td>\n",
       "      <td>1264</td>\n",
       "      <td>Over $100 billion wiped off global cryptocurre...</td>\n",
       "      <td>https://www.cnbc.com/2018/02/02/bitcoin-ethere...</td>\n",
       "      <td>NaN</td>\n",
       "    </tr>\n",
       "    <tr>\n",
       "      <th>9</th>\n",
       "      <td>9</td>\n",
       "      <td>5</td>\n",
       "      <td>A nova moda entre as celebridades e famosas no...</td>\n",
       "      <td>1</td>\n",
       "      <td>1263</td>\n",
       "      <td>Mulher é proibida pela Justiça de curtir o ver...</td>\n",
       "      <td>http://www.sensacionalista.com.br/2018/02/02/m...</td>\n",
       "      <td>NaN</td>\n",
       "    </tr>\n",
       "  </tbody>\n",
       "</table>\n",
       "</div>"
      ],
      "text/plain": [
       "   Unnamed: 0  category_id                                            content  \\\n",
       "0           0            2                                                 \\n   \n",
       "1           1            2                                                 \\n   \n",
       "2           2            1  O processo de germinação do Instituto Gênesis ...   \n",
       "3           3            6  Pediu uma pizza, ganhou a segunda! 😍😍😍 Simples...   \n",
       "4           4            1                                                 \\n   \n",
       "5           5            4              O Estado não gosta de concorrência ;)   \n",
       "6           6            6  Só entre os dois? Se eu tiver que escolher só ...   \n",
       "7           7            1  Bitcoin's price dipped below $8,000 for the fi...   \n",
       "8           8            1  Over $100 billion was wiped off the global cry...   \n",
       "9           9            5  A nova moda entre as celebridades e famosas no...   \n",
       "\n",
       "   count    id                                              title  \\\n",
       "0      1  1272                fake news google - Recherche Google   \n",
       "1      1  1271                fake news google - Recherche Google   \n",
       "2      1  1270                       Notícias | Instituto Gênesis   \n",
       "3      1  1269             Pediu uma pizza, ganhou a segunda! 😍😍😍   \n",
       "4      1  1268  Testing Microservices, the sane way – Cindy Sr...   \n",
       "5      1  1267              O Estado não gosta de concorrência ;)   \n",
       "6      1  1266  Só entre os dois? Se eu tiver que escolher só ...   \n",
       "7      1  1265  Bitcoin price drops below $8,000 for first tim...   \n",
       "8      1  1264  Over $100 billion wiped off global cryptocurre...   \n",
       "9      1  1263  Mulher é proibida pela Justiça de curtir o ver...   \n",
       "\n",
       "                                                 url  verified_category_id  \n",
       "0  https://www.google.fr/search?client=firefox-b&...                   NaN  \n",
       "1  https://www.google.fr/search?client=firefox-b&...                   NaN  \n",
       "2  http://www.genesis.puc-rio.br/noticias/detalhe...                   NaN  \n",
       "3  https://www.facebook.com/artezianforneria/phot...                   NaN  \n",
       "4                            https://t.co/M77kp8eRUn                   NaN  \n",
       "5  https://www.facebook.com/rankingdospoliticos/p...                   NaN  \n",
       "6  https://www.facebook.com/neto.joaobatista/post...                   NaN  \n",
       "7  https://www.cnbc.com/2018/02/02/bitcoin-price-...                   NaN  \n",
       "8  https://www.cnbc.com/2018/02/02/bitcoin-ethere...                   NaN  \n",
       "9  http://www.sensacionalista.com.br/2018/02/02/m...                   NaN  "
      ]
     },
     "execution_count": 1,
     "metadata": {},
     "output_type": "execute_result"
    }
   ],
   "source": [
    "import pandas as pd\n",
    "\n",
    "df = pd.read_csv(\"../links.csv\")\n",
    "\n",
    "df[0:10]"
   ]
  },
  {
   "cell_type": "code",
   "execution_count": 6,
   "metadata": {
    "collapsed": true
   },
   "outputs": [],
   "source": [
    "from imblearn.under_sampling import RandomUnderSampler\n",
    "\n",
    "def undersample_data(X, y):\n",
    "    columns = X.columns.values.tolist()\n",
    "\n",
    "    X, y = RandomUnderSampler(random_state=123, ratio='all').fit_sample(\n",
    "        X.values.tolist(), y.values.tolist())\n",
    "    X = pd.DataFrame(X, columns=columns)\n",
    "\n",
    "    return X, y\n",
    "\n",
    "def extract_title(X):\n",
    "    return X['title']"
   ]
  },
  {
   "cell_type": "code",
   "execution_count": 30,
   "metadata": {
    "collapsed": false
   },
   "outputs": [
    {
     "ename": "AttributeError",
     "evalue": "'Series' object has no attribute 'columns'",
     "output_type": "error",
     "traceback": [
      "\u001b[0;31m---------------------------------------------------------------------------\u001b[0m",
      "\u001b[0;31mAttributeError\u001b[0m                            Traceback (most recent call last)",
      "\u001b[0;32m<ipython-input-30-21d95d137668>\u001b[0m in \u001b[0;36m<module>\u001b[0;34m()\u001b[0m\n\u001b[1;32m      7\u001b[0m \u001b[0my\u001b[0m \u001b[0;34m=\u001b[0m \u001b[0mdf\u001b[0m\u001b[0;34m[\u001b[0m\u001b[0;34m\"is_click_bait\"\u001b[0m\u001b[0;34m]\u001b[0m\u001b[0;34m\u001b[0m\u001b[0m\n\u001b[1;32m      8\u001b[0m \u001b[0;34m\u001b[0m\u001b[0m\n\u001b[0;32m----> 9\u001b[0;31m \u001b[0mX\u001b[0m\u001b[0;34m,\u001b[0m \u001b[0my\u001b[0m \u001b[0;34m=\u001b[0m \u001b[0mundersample_data\u001b[0m\u001b[0;34m(\u001b[0m\u001b[0mX\u001b[0m\u001b[0;34m,\u001b[0m \u001b[0my\u001b[0m\u001b[0;34m)\u001b[0m\u001b[0;34m\u001b[0m\u001b[0m\n\u001b[0m\u001b[1;32m     10\u001b[0m \u001b[0;34m\u001b[0m\u001b[0m\n\u001b[1;32m     11\u001b[0m \u001b[0mX\u001b[0m\u001b[0;34m[\u001b[0m\u001b[0;36m0\u001b[0m\u001b[0;34m:\u001b[0m\u001b[0;36m10\u001b[0m\u001b[0;34m]\u001b[0m\u001b[0;34m\u001b[0m\u001b[0m\n",
      "\u001b[0;32m<ipython-input-6-c37a72753f91>\u001b[0m in \u001b[0;36mundersample_data\u001b[0;34m(X, y)\u001b[0m\n\u001b[1;32m      6\u001b[0m \u001b[0;34m\u001b[0m\u001b[0m\n\u001b[1;32m      7\u001b[0m \u001b[0;32mdef\u001b[0m \u001b[0mundersample_data\u001b[0m\u001b[0;34m(\u001b[0m\u001b[0mX\u001b[0m\u001b[0;34m,\u001b[0m \u001b[0my\u001b[0m\u001b[0;34m)\u001b[0m\u001b[0;34m:\u001b[0m\u001b[0;34m\u001b[0m\u001b[0m\n\u001b[0;32m----> 8\u001b[0;31m     \u001b[0mcolumns\u001b[0m \u001b[0;34m=\u001b[0m \u001b[0mX\u001b[0m\u001b[0;34m.\u001b[0m\u001b[0mcolumns\u001b[0m\u001b[0;34m.\u001b[0m\u001b[0mvalues\u001b[0m\u001b[0;34m.\u001b[0m\u001b[0mtolist\u001b[0m\u001b[0;34m(\u001b[0m\u001b[0;34m)\u001b[0m\u001b[0;34m\u001b[0m\u001b[0m\n\u001b[0m\u001b[1;32m      9\u001b[0m \u001b[0;34m\u001b[0m\u001b[0m\n\u001b[1;32m     10\u001b[0m     X, y = RandomUnderSampler(random_state=123, ratio='all').fit_sample(\n",
      "\u001b[0;32m/usr/local/Cellar/python3/3.6.1/Frameworks/Python.framework/Versions/3.6/lib/python3.6/site-packages/pandas/core/generic.py\u001b[0m in \u001b[0;36m__getattr__\u001b[0;34m(self, name)\u001b[0m\n\u001b[1;32m   3075\u001b[0m         if (name in self._internal_names_set or name in self._metadata or\n\u001b[1;32m   3076\u001b[0m                 name in self._accessors):\n\u001b[0;32m-> 3077\u001b[0;31m             \u001b[0;32mreturn\u001b[0m \u001b[0mobject\u001b[0m\u001b[0;34m.\u001b[0m\u001b[0m__getattribute__\u001b[0m\u001b[0;34m(\u001b[0m\u001b[0mself\u001b[0m\u001b[0;34m,\u001b[0m \u001b[0mname\u001b[0m\u001b[0;34m)\u001b[0m\u001b[0;34m\u001b[0m\u001b[0m\n\u001b[0m\u001b[1;32m   3078\u001b[0m         \u001b[0;32melse\u001b[0m\u001b[0;34m:\u001b[0m\u001b[0;34m\u001b[0m\u001b[0m\n\u001b[1;32m   3079\u001b[0m             \u001b[0;32mif\u001b[0m \u001b[0mname\u001b[0m \u001b[0;32min\u001b[0m \u001b[0mself\u001b[0m\u001b[0;34m.\u001b[0m\u001b[0m_info_axis\u001b[0m\u001b[0;34m:\u001b[0m\u001b[0;34m\u001b[0m\u001b[0m\n",
      "\u001b[0;31mAttributeError\u001b[0m: 'Series' object has no attribute 'columns'"
     ]
    }
   ],
   "source": [
    "df[\"is_click_bait\"] = [\n",
    "    category_id == 3\n",
    "    for category_id in df[\"category_id\"]\n",
    "]\n",
    "\n",
    "X = df[\"title\"]\n",
    "y = df[\"is_click_bait\"]\n",
    "\n",
    "X, y = undersample_data(X, y)\n",
    "\n",
    "X[0:10]"
   ]
  },
  {
   "cell_type": "code",
   "execution_count": 11,
   "metadata": {
    "collapsed": false
   },
   "outputs": [
    {
     "data": {
      "text/plain": [
       "0.76470588235294112"
      ]
     },
     "execution_count": 11,
     "metadata": {},
     "output_type": "execute_result"
    }
   ],
   "source": [
    "from sklearn.model_selection import train_test_split\n",
    "from sklearn.preprocessing import FunctionTransformer\n",
    "from sklearn.feature_extraction.text import TfidfVectorizer\n",
    "from sklearn.naive_bayes import MultinomialNB\n",
    "from imblearn.pipeline import Pipeline\n",
    "\n",
    "pipeline = Pipeline([\n",
    "    ('selector', FunctionTransformer(extract_title, validate=False)),\n",
    "    ('tfidf', TfidfVectorizer(strip_accents='ascii', ngram_range=(2, 1))),\n",
    "    ('sampling', RandomUnderSampler(random_state=123)),\n",
    "    ('clf', MultinomialNB()),\n",
    "])\n",
    "\n",
    "X_train, X_test, y_train, y_test = train_test_split(X, y)\n",
    "\n",
    "model = pipeline.fit(X_train, y_train)\n",
    "accuracy = model.score(X_test, y_test)\n",
    "\n",
    "accuracy"
   ]
  },
  {
   "cell_type": "code",
   "execution_count": 27,
   "metadata": {
    "collapsed": false
   },
   "outputs": [
    {
     "data": {
      "text/plain": [
       "array([[ 0.96041404,  0.03958596]])"
      ]
     },
     "execution_count": 27,
     "metadata": {},
     "output_type": "execute_result"
    }
   ],
   "source": [
    "model.predict_proba(pd.DataFrame([X_test.iloc[0]]))"
   ]
  },
  {
   "cell_type": "code",
   "execution_count": 25,
   "metadata": {
    "collapsed": true
   },
   "outputs": [],
   "source": [
    "from lime.lime_text import LimeTextExplainer\n",
    "\n",
    "class_names = [\"normal\", \"click bait\"]\n",
    "explainer = LimeTextExplainer(class_names=class_names)"
   ]
  },
  {
   "cell_type": "code",
   "execution_count": 29,
   "metadata": {
    "collapsed": false
   },
   "outputs": [
    {
     "ename": "TypeError",
     "evalue": "'NoneType' object is not subscriptable",
     "output_type": "error",
     "traceback": [
      "\u001b[0;31m---------------------------------------------------------------------------\u001b[0m",
      "\u001b[0;31mTypeError\u001b[0m                                 Traceback (most recent call last)",
      "\u001b[0;32m<ipython-input-29-d621fa7fe137>\u001b[0m in \u001b[0;36m<module>\u001b[0;34m()\u001b[0m\n\u001b[1;32m      6\u001b[0m \u001b[0;34m\u001b[0m\u001b[0m\n\u001b[1;32m      7\u001b[0m \u001b[0midx\u001b[0m \u001b[0;34m=\u001b[0m \u001b[0;36m0\u001b[0m\u001b[0;34m\u001b[0m\u001b[0m\n\u001b[0;32m----> 8\u001b[0;31m \u001b[0mexp\u001b[0m \u001b[0;34m=\u001b[0m \u001b[0mexplainer\u001b[0m\u001b[0;34m.\u001b[0m\u001b[0mexplain_instance\u001b[0m\u001b[0;34m(\u001b[0m\u001b[0mget_X\u001b[0m\u001b[0;34m(\u001b[0m\u001b[0;36m0\u001b[0m\u001b[0;34m)\u001b[0m\u001b[0;34m[\u001b[0m\u001b[0;34m\"title\"\u001b[0m\u001b[0;34m]\u001b[0m\u001b[0;34m,\u001b[0m \u001b[0mmodel\u001b[0m\u001b[0;34m.\u001b[0m\u001b[0mpredict_proba\u001b[0m\u001b[0;34m,\u001b[0m \u001b[0mnum_features\u001b[0m\u001b[0;34m=\u001b[0m\u001b[0;36m6\u001b[0m\u001b[0;34m)\u001b[0m\u001b[0;34m\u001b[0m\u001b[0m\n\u001b[0m\u001b[1;32m      9\u001b[0m \u001b[0mprint\u001b[0m\u001b[0;34m(\u001b[0m\u001b[0;34m'Document id: %d'\u001b[0m \u001b[0;34m%\u001b[0m \u001b[0midx\u001b[0m\u001b[0;34m)\u001b[0m\u001b[0;34m\u001b[0m\u001b[0m\n\u001b[1;32m     10\u001b[0m \u001b[0mprint\u001b[0m\u001b[0;34m(\u001b[0m\u001b[0;34m'Probability(click bait) ='\u001b[0m\u001b[0;34m,\u001b[0m \u001b[0mc\u001b[0m\u001b[0;34m.\u001b[0m\u001b[0mpredict_proba\u001b[0m\u001b[0;34m(\u001b[0m\u001b[0;34m[\u001b[0m\u001b[0mget_X\u001b[0m\u001b[0;34m(\u001b[0m\u001b[0;36m0\u001b[0m\u001b[0;34m)\u001b[0m\u001b[0;34m]\u001b[0m\u001b[0;34m)\u001b[0m\u001b[0;34m[\u001b[0m\u001b[0;36m0\u001b[0m\u001b[0;34m,\u001b[0m\u001b[0;36m1\u001b[0m\u001b[0;34m]\u001b[0m\u001b[0;34m)\u001b[0m\u001b[0;34m\u001b[0m\u001b[0m\n",
      "\u001b[0;31mTypeError\u001b[0m: 'NoneType' object is not subscriptable"
     ]
    }
   ],
   "source": [
    "def get_X(index):\n",
    "    pd.DataFrame([X_test.iloc[index]])\n",
    "    \n",
    "def get_Y(index):\n",
    "    Y_test.iloc[index]\n",
    "\n",
    "idx = 0\n",
    "exp = explainer.explain_instance(get_X(0)[\"title\"], model.predict_proba, num_features=6)\n",
    "print('Document id: %d' % idx)\n",
    "print('Probability(click bait) =', c.predict_proba([get_X(0)])[0,1])\n",
    "print('True class: %s' % class_names[get_Y(0)])"
   ]
  },
  {
   "cell_type": "code",
   "execution_count": null,
   "metadata": {
    "collapsed": true
   },
   "outputs": [],
   "source": []
  }
 ],
 "metadata": {
  "kernelspec": {
   "display_name": "Python 3",
   "language": "python",
   "name": "python3"
  },
  "language_info": {
   "codemirror_mode": {
    "name": "ipython",
    "version": 3
   },
   "file_extension": ".py",
   "mimetype": "text/x-python",
   "name": "python",
   "nbconvert_exporter": "python",
   "pygments_lexer": "ipython3",
   "version": "3.6.1"
  }
 },
 "nbformat": 4,
 "nbformat_minor": 2
}
