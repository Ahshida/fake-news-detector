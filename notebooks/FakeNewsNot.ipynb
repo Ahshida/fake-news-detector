{
 "cells": [
  {
   "cell_type": "code",
   "execution_count": 5,
   "metadata": {
    "scrolled": true
   },
   "outputs": [
    {
     "data": {
      "text/html": [
       "<div>\n",
       "<style scoped>\n",
       "    .dataframe tbody tr th:only-of-type {\n",
       "        vertical-align: middle;\n",
       "    }\n",
       "\n",
       "    .dataframe tbody tr th {\n",
       "        vertical-align: top;\n",
       "    }\n",
       "\n",
       "    .dataframe thead th {\n",
       "        text-align: right;\n",
       "    }\n",
       "</style>\n",
       "<table border=\"1\" class=\"dataframe\">\n",
       "  <thead>\n",
       "    <tr style=\"text-align: right;\">\n",
       "      <th></th>\n",
       "      <th>category_id</th>\n",
       "      <th>content</th>\n",
       "      <th>count</th>\n",
       "      <th>id</th>\n",
       "      <th>title</th>\n",
       "      <th>url</th>\n",
       "      <th>verified_category_id</th>\n",
       "    </tr>\n",
       "  </thead>\n",
       "  <tbody>\n",
       "    <tr>\n",
       "      <th>0</th>\n",
       "      <td>1</td>\n",
       "      <td>KKKKKKKKKKKKKKKKKKKK É bem isso.</td>\n",
       "      <td>1</td>\n",
       "      <td>1233</td>\n",
       "      <td>KKKKKKKKKKKKKKKKKKKK É bem isso.</td>\n",
       "      <td>https://www.facebook.com/serggom007/posts/1964...</td>\n",
       "      <td>NaN</td>\n",
       "    </tr>\n",
       "    <tr>\n",
       "      <th>1</th>\n",
       "      <td>1</td>\n",
       "      <td>Outra vez eu me sirvo deste menino que faz o t...</td>\n",
       "      <td>1</td>\n",
       "      <td>1232</td>\n",
       "      <td>De Darcy para Lula: chore hoje, lute amanhã - ...</td>\n",
       "      <td>http://www.tijolaco.com.br/blog/de-darcy-para-...</td>\n",
       "      <td>NaN</td>\n",
       "    </tr>\n",
       "    <tr>\n",
       "      <th>2</th>\n",
       "      <td>1</td>\n",
       "      <td>A bomb hidden in an ambulance killed at least ...</td>\n",
       "      <td>1</td>\n",
       "      <td>1231</td>\n",
       "      <td>Afghanistan: Several People Dead, 50 Injured i...</td>\n",
       "      <td>https://www.telesurtv.net/english/news/Afghani...</td>\n",
       "      <td>NaN</td>\n",
       "    </tr>\n",
       "    <tr>\n",
       "      <th>3</th>\n",
       "      <td>1</td>\n",
       "      <td>Skip to content\\n\\nFounder WikiLeaks; Geopolit...</td>\n",
       "      <td>1</td>\n",
       "      <td>1230</td>\n",
       "      <td>Julian Assange ⌛ on Twitter</td>\n",
       "      <td>https://twitter.com/JulianAssange/status/95760...</td>\n",
       "      <td>NaN</td>\n",
       "    </tr>\n",
       "    <tr>\n",
       "      <th>4</th>\n",
       "      <td>2</td>\n",
       "      <td>Para evitar novas rebeliões, Ministra quer fe...</td>\n",
       "      <td>1</td>\n",
       "      <td>1229</td>\n",
       "      <td></td>\n",
       "      <td>66e67696d1c029e2d79f505db04f85e2</td>\n",
       "      <td>NaN</td>\n",
       "    </tr>\n",
       "    <tr>\n",
       "      <th>5</th>\n",
       "      <td>2</td>\n",
       "      <td>A casa caiu ! Há poucas horas atrás uma font...</td>\n",
       "      <td>1</td>\n",
       "      <td>1228</td>\n",
       "      <td></td>\n",
       "      <td>5503447a2e26068b84e24db35efadbcf</td>\n",
       "      <td>NaN</td>\n",
       "    </tr>\n",
       "    <tr>\n",
       "      <th>6</th>\n",
       "      <td>2</td>\n",
       "      <td>*REPASSEM O BRASIL PRECISA SABER*  Diretor che...</td>\n",
       "      <td>1</td>\n",
       "      <td>1227</td>\n",
       "      <td></td>\n",
       "      <td>ea05ae23c3d68179c3e8cd8f2146105d</td>\n",
       "      <td>NaN</td>\n",
       "    </tr>\n",
       "    <tr>\n",
       "      <th>7</th>\n",
       "      <td>2</td>\n",
       "      <td>Joaquim Barbosa: “Caso seja confirmado um crim...</td>\n",
       "      <td>1</td>\n",
       "      <td>1226</td>\n",
       "      <td></td>\n",
       "      <td>d6268c8f40650ef4663a02b833d360a6</td>\n",
       "      <td>NaN</td>\n",
       "    </tr>\n",
       "    <tr>\n",
       "      <th>8</th>\n",
       "      <td>2</td>\n",
       "      <td>As horas após a queda do avião foram movimen...</td>\n",
       "      <td>1</td>\n",
       "      <td>1225</td>\n",
       "      <td></td>\n",
       "      <td>33d5308c0b2d8970ba99f1dfecfe1287</td>\n",
       "      <td>NaN</td>\n",
       "    </tr>\n",
       "    <tr>\n",
       "      <th>9</th>\n",
       "      <td>2</td>\n",
       "      <td>A casa caiu ! Há poucas horas atrás uma font...</td>\n",
       "      <td>1</td>\n",
       "      <td>1224</td>\n",
       "      <td></td>\n",
       "      <td>b4c969329ec7a328bc79978199c5ead6</td>\n",
       "      <td>NaN</td>\n",
       "    </tr>\n",
       "  </tbody>\n",
       "</table>\n",
       "</div>"
      ],
      "text/plain": [
       "   category_id                                            content  count  \\\n",
       "0            1                   KKKKKKKKKKKKKKKKKKKK É bem isso.      1   \n",
       "1            1  Outra vez eu me sirvo deste menino que faz o t...      1   \n",
       "2            1  A bomb hidden in an ambulance killed at least ...      1   \n",
       "3            1  Skip to content\\n\\nFounder WikiLeaks; Geopolit...      1   \n",
       "4            2  Para evitar novas rebeliões, Ministra quer fe...      1   \n",
       "5            2  A casa caiu ! Há poucas horas atrás uma font...      1   \n",
       "6            2  *REPASSEM O BRASIL PRECISA SABER*  Diretor che...      1   \n",
       "7            2  Joaquim Barbosa: “Caso seja confirmado um crim...      1   \n",
       "8            2  As horas após a queda do avião foram movimen...      1   \n",
       "9            2  A casa caiu ! Há poucas horas atrás uma font...      1   \n",
       "\n",
       "     id                                              title  \\\n",
       "0  1233                   KKKKKKKKKKKKKKKKKKKK É bem isso.   \n",
       "1  1232  De Darcy para Lula: chore hoje, lute amanhã - ...   \n",
       "2  1231  Afghanistan: Several People Dead, 50 Injured i...   \n",
       "3  1230                        Julian Assange ⌛ on Twitter   \n",
       "4  1229                                                      \n",
       "5  1228                                                      \n",
       "6  1227                                                      \n",
       "7  1226                                                      \n",
       "8  1225                                                      \n",
       "9  1224                                                      \n",
       "\n",
       "                                                 url  verified_category_id  \n",
       "0  https://www.facebook.com/serggom007/posts/1964...                   NaN  \n",
       "1  http://www.tijolaco.com.br/blog/de-darcy-para-...                   NaN  \n",
       "2  https://www.telesurtv.net/english/news/Afghani...                   NaN  \n",
       "3  https://twitter.com/JulianAssange/status/95760...                   NaN  \n",
       "4                   66e67696d1c029e2d79f505db04f85e2                   NaN  \n",
       "5                   5503447a2e26068b84e24db35efadbcf                   NaN  \n",
       "6                   ea05ae23c3d68179c3e8cd8f2146105d                   NaN  \n",
       "7                   d6268c8f40650ef4663a02b833d360a6                   NaN  \n",
       "8                   33d5308c0b2d8970ba99f1dfecfe1287                   NaN  \n",
       "9                   b4c969329ec7a328bc79978199c5ead6                   NaN  "
      ]
     },
     "execution_count": 5,
     "metadata": {},
     "output_type": "execute_result"
    }
   ],
   "source": [
    "import pandas as pd\n",
    "\n",
    "df = pd.read_json(\"http://fake-news-detector-api.herokuapp.com/links/all\")\n",
    "\n",
    "df[0:10]"
   ]
  },
  {
   "cell_type": "code",
   "execution_count": 14,
   "metadata": {
    "scrolled": true
   },
   "outputs": [
    {
     "name": "stdout",
     "output_type": "stream",
     "text": [
      "X 0    KKKKKKKKKKKKKKKKKKKK É bem isso. KKKKKKKKKKKKK...\n",
      "1    De Darcy para Lula: chore hoje, lute amanhã - ...\n",
      "2    Afghanistan: Several People Dead, 50 Injured i...\n",
      "3    Julian Assange ⌛ on Twitter Skip to content\\n\\...\n",
      "4     Para evitar novas rebeliões, Ministra quer f...\n",
      "Name: text, dtype: object\n",
      "Number of fake news samples 642\n"
     ]
    }
   ],
   "source": [
    "df[\"is_fake_news\"] = [cid == 2 for cid in df[\"category_id\"]]\n",
    "df[\"text\"] = df[\"title\"] + ' ' + df[\"content\"]\n",
    "df.dropna(subset=[\"text\"], inplace=True)\n",
    "\n",
    "X = df[\"text\"]\n",
    "\n",
    "print(\"X\", X[0:5])\n",
    "\n",
    "y = df[\"is_fake_news\"]\n",
    "\n",
    "print(\"Number of fake news samples\", len(df[df[\"is_fake_news\"] == True]))"
   ]
  },
  {
   "cell_type": "code",
   "execution_count": 22,
   "metadata": {},
   "outputs": [
    {
     "data": {
      "text/plain": [
       "[('e', 'NN'),\n",
       " ('agora', 'NNS'),\n",
       " ('algo', 'VBP'),\n",
       " ('completamente', 'JJ'),\n",
       " ('estranho', 'FW'),\n",
       " ('um', 'JJ'),\n",
       " ('pudim', 'NN')]"
      ]
     },
     "execution_count": 22,
     "metadata": {},
     "output_type": "execute_result"
    }
   ],
   "source": [
    "import nltk\n",
    "\n",
    "text = nltk.word_tokenize(\"e agora algo completamente estranho um pudim\", language='portuguese')\n",
    "nltk.pos_tag(text)"
   ]
  },
  {
   "cell_type": "code",
   "execution_count": 16,
   "metadata": {
    "scrolled": false
   },
   "outputs": [
    {
     "name": "stdout",
     "output_type": "stream",
     "text": [
      "X[0] [('kkkkkkkkkkkkkkkkkkkk', 'NN'), ('e', 'NN'), ('bem', 'NN'), ('isso', 'NN'), ('.', '.'), ('kkkkkkkkkkkkkkkkkkkk', 'VB'), ('e', 'JJ'), ('bem', 'NN'), ('isso', 'NN'), ('.', '.')]\n",
      "X[1] [('de', 'IN'), ('darcy', 'FW'), ('para', 'JJ'), ('lula', 'NN'), (':', ':'), ('chore', 'NN'), ('hoje', 'NN'), (',', ','), ('lute', 'NN'), ('amanha', 'SYM'), ('-', ':'), ('tijolaco', 'NN'), ('|', 'VBZ'), ('``', '``'), ('a', 'DT'), ('politica', 'NN'), (',', ','), ('sem', 'NN'), ('polemica', 'NN'), (',', ','), ('e', 'VB'), ('a', 'DT'), ('arma', 'JJ'), ('das', 'NN'), ('elites', 'NNS'), ('.', '.'), (\"''\", \"''\"), ('outra', 'JJ'), ('vez', 'NN'), ('eu', 'IN'), ('me', 'PRP'), ('sirvo', 'JJ'), ('deste', 'NN'), ('menino', 'NN'), ('que', 'NN'), ('faz', 'NN'), ('o', 'IN'), ('tal', 'JJ'), ('tijolaco', 'NN'), ('para', 'NN'), ('ser', 'NN'), ('meu', 'NN'), ('cambono', 'NN'), ('.', '.'), ('mediocre', 'NN'), (',', ','), ('e', 'NN'), ('verdade', 'NN'), (',', ','), ('mas', 'FW'), ('e', 'FW'), ('quem', 'FW'), ('esta', 'FW'), ('a', 'DT'), ('mao', 'NN'), (',', ','), ('fazer', 'NN'), ('o', 'NN'), ('que', 'NN'), ('?', '.'), ('para', 'NN'), ('ver', 'NN'), ('se', 'NN'), ('revolvia', 'VBZ'), ('a', 'DT'), ('sua', 'JJ'), ('terra', 'NN'), ('pouco', 'NN'), ('fertil', 'NN'), (',', ','), ('mandei-lhe', 'JJ'), ('uma', 'JJ'), ('emanacao', 'NN'), (',', ','), ('aqui', 'RB'), ('do', 'VBP'), ('eter', 'RB'), (',', ','), ('para', 'NN'), ('que', 'NN'), ('ouvisse', 'FW'), ('o', 'NN'), ('que', 'NN'), ('falei', 'VBZ'), ('no', 'DT'), ('enterro', 'NN'), ('do', 'VBP'), ('glauber', 'VB'), ('rocha', 'VB'), ('.', '.'), ('claro', 'NN'), ('que', 'NN'), ('nao', 'JJ'), ('porque', 'NN'), ('voce', 'NN'), ('esteja', 'NN'), ('morto', 'NN'), (',', ','), ('como', 'NN'), ('eu', 'NN'), ('e', 'NN'), ('ele', 'NN'), (',', ','), ('mas', 'FW'), ('porque', 'NN'), ('te', 'NN'), ('quero', 'NN'), ('sugerir', 'NN'), ('que', 'NN'), (',', ','), ('como', 'NN'), ('ele', 'NN'), (',', ','), ('esta', 'JJ'), ('noite', 'RB'), (',', ','), ('chore', 'NN'), ('.', '.'), ('eu', 'CC'), ('disse', 'JJ'), ('la', 'NN'), (':', ':'), ('``', '``'), ('o', 'IN'), ('glauber', 'NN'), ('chorava', 'NN'), (',', ','), ('chorava', 'NN'), ('convulsivamente', 'NN'), ('.', '.'), ('o', 'JJ'), ('glauber', 'NN'), ('chorava', 'VB'), ('a', 'DT'), ('dor', 'NN'), ('que', 'NN'), ('todos', 'NN'), ('deviamos', 'NN'), ('chorar', 'NN'), (',', ','), ('a', 'DT'), ('dor', 'NN'), ('de', 'IN'), ('todos', 'FW'), ('os', 'JJ'), ('brasileiros', 'NN'), ('.', '.'), ('o', 'JJ'), ('glauber', 'NN'), ('chorava', 'NN'), ('as', 'IN'), ('criancas', 'NN'), ('com', 'NN'), ('fome', 'NN'), (',', ','), ('o', 'JJ'), ('glauber', 'NN'), ('chorava', 'NN'), ('um', 'JJ'), ('pais', 'NN'), ('que', 'NN'), ('nao', 'JJ'), ('deu', 'NN'), ('certo', 'NN'), (',', ','), ('o', 'JJ'), ('glauber', 'NN'), ('chorava', 'VB'), ('a', 'DT'), ('brutalidade', 'NN'), (',', ','), ('a', 'DT'), ('mediocridade', 'NN'), (',', ','), ('a', 'DT'), ('estupidez', 'NN'), (\"''\", \"''\"), ('...', ':'), ('pois', 'NN'), ('entao', 'NN'), (',', ','), ('meu', 'FW'), ('caro', 'NN'), ('lula', 'NN'), (',', ','), ('sinta-se', 'JJ'), ('livre', 'NN'), ('hoje', 'NN'), ('para', 'NN'), ('chorar', 'NN'), ('.', '.'), ('nao', 'JJ'), ('por', 'NN'), ('voce', 'NN'), (',', ','), ('que', 'NN'), ('sei', 'NN'), (',', ','), ('por', 'NN'), ('ja', 'NN'), ('ter', 'NN'), ('tido', 'VBD'), ('a', 'DT'), ('sua', 'NN'), ('idade', 'NN'), ('e', 'NN'), ('um', 'JJ'), ('cancer', 'NN'), ('como', 'NN'), ('voce', 'NN'), (',', ','), ('sei', 'NN'), ('que', 'NN'), ('nao', 'JJ'), ('liga', 'NN'), ('mais', 'NN'), ('para', 'NN'), ('si', 'NN'), ('mesmo', 'NN'), ('.', '.'), ('nem', 'JJ'), ('eu', 'NN'), (',', ','), ('que', 'VB'), ('me', 'PRP'), ('amava', 'JJ'), ('tanto', 'IN'), ('e', 'JJ'), ('tao', 'NN'), ('profundamente', 'NN'), (',', ','), ('dava', 'NN'), ('muita', 'NN'), ('importancia', 'VBZ'), ('a', 'DT'), ('mim', 'NN'), (',', ','), ('a', 'DT'), ('nao', 'JJ'), ('ser', 'NN'), ('pelo', 'NN'), ('que', 'NN'), ('podia', 'NN'), ('fazer', 'NN'), (',', ','), ('dizer', 'NN'), ('e', 'NN'), ('escrever', 'NN'), ('.', '.'), ('e', 'CC'), ('nesta', 'JJ'), ('ordem', 'NN'), ('.', '.'), ('chore', 'NN'), (',', ','), ('lula', 'NN'), (',', ','), ('chore', 'NN'), ('.', '.'), ('mas', 'NN'), ('chore', 'NN'), ('so', 'RB'), ('hoje', 'JJ'), ('.', '.'), ('que', 'NN'), ('amanha', 'NN'), (',', ','), ('como', 'NN'), ('voce', 'NN'), ('se', 'NN'), ('acostumou', 'NN'), (',', ','), ('e', 'JJ'), ('dia', 'FW'), ('de', 'FW'), ('ir', 'FW'), ('cedo', 'NN'), ('para', 'NN'), ('a', 'DT'), ('fabrica', 'NN'), ('.', '.'), ('porque', 'NN'), ('e', 'NN'), ('muito', 'NN'), ('parecido', 'NN'), (',', ','), ('nao', 'JJ'), ('e', 'NN'), ('?', '.'), ('moldar', 'NN'), ('ideias', 'NN'), ('e', 'FW'), ('como', 'NN'), ('moldar', 'NN'), ('metais', 'NN'), (':', ':'), ('e', 'NN'), ('duro', 'NN'), (',', ','), ('cheio', 'NN'), ('de', 'FW'), ('asperezas', 'FW'), ('e', 'FW'), ('sujeito', 'FW'), ('a', 'DT'), ('acidentes', 'NNS'), ('que', 'JJ'), ('nos', 'JJ'), ('machucam', 'NN'), ('.', '.'), ('e', 'CC'), ('e', 'JJ'), ('pior', 'NN'), (',', ','), ('ate', 'NN'), (',', ','), ('porque', 'NN'), ('nao', 'JJ'), ('tem', 'NN'), ('descanso', 'NN'), (',', ','), ('nem', 'JJ'), ('fim', 'NN'), ('de', 'IN'), ('semana', 'FW'), (',', ','), ('e', 'VBZ'), ('a', 'DT'), ('falta', 'NN'), ('de', 'IN'), ('uma', 'JJ'), ('rede', 'NN'), ('nos', 'NNS'), ('faz', 'VBP'), ('doer', 'NN'), ('as', 'IN'), ('costas', 'NN'), ('de', 'IN'), ('macunaimas', 'FW'), ('.', '.'), ('lula', 'NN'), (',', ','), ('os', 'JJ'), ('estatutos', 'NN'), ('desta', 'NN'), ('gafieira', 'NN'), ('onde', 'IN'), ('me', 'PRP'), ('encontro', 'SYM'), ('-', ':'), ('nao', 'JJ'), ('sei', 'NN'), ('se', 'NN'), ('e', 'NN'), ('celeste', 'NN'), ('ou', 'JJ'), ('infernal', 'JJ'), (',', ','), ('porque', 'JJ'), ('nao', 'FW'), ('entendo', 'FW'), ('um', 'JJ'), ('ceu', 'NN'), ('sem', 'NN'), ('pecados', 'NN'), ('e', 'NN'), ('nem', 'JJ'), ('um', 'JJ'), ('inferno', 'NN'), ('sem', 'NN'), ('virtudes', 'IN'), ('-', ':'), ('impedem-me', 'JJ'), ('de', 'FW'), ('te', 'FW'), ('revelar', 'JJ'), ('o', 'NN'), ('futuro', 'NN'), ('.', '.'), ('posso', 'VB'), ('apenas', 'JJ'), ('te', 'NN'), ('dizer', 'NN'), ('que', 'NN'), ('nao', 'JJ'), ('e', 'NN'), ('facil', 'NN'), ('como', 'NN'), ('o', 'FW'), ('de', 'FW'), ('quem', 'FW'), ('morre', 'FW'), ('e', 'FW'), ('vira', 'FW'), ('santo', 'NN'), (',', ','), ('porque', 'NN'), ('depois', 'NN'), ('que', 'VBD'), ('a', 'DT'), ('gente', 'NN'), ('desencarna', 'NN'), (',', ','), ('ate', 'JJ'), ('os', 'NN'), ('cinicos', 'NN'), ('nos', 'JJ'), ('aplaudem', 'NN'), ('.', '.'), ('quando', 'VB'), ('a', 'DT'), ('gente', 'NN'), ('esta', 'NN'), ('vivo', 'NN'), (',', ','), ('nos', 'JJ'), ('acusam', 'NN'), ('de', 'IN'), ('tudo', 'NN'), ('.', '.'), ('a', 'DT'), ('mim', 'NN'), (',', ','), ('usaram', 'JJ'), ('uma', 'JJ'), ('foto', 'NN'), ('para', 'NN'), ('dizer', 'NN'), ('que', 'NN'), ('eu', 'IN'), ('me', 'PRP'), ('aliava', 'VBZ'), ('a', 'DT'), ('banqueiros', 'NN'), ('do', 'VBP'), ('jogo', 'NNS'), ('do', 'VB'), ('bicho', 'RB'), ('.', '.'), ('como', 'NN'), ('e', 'NN'), ('que', 'NN'), ('eu', 'NN'), ('ia', 'NN'), ('ser', 'NN'), ('secretario', 'NN'), ('de', 'IN'), ('cultura', 'NN'), ('do', 'VBP'), ('rio', 'NN'), ('de', 'IN'), ('janeiro', 'NN'), (',', ','), ('fazer', 'NN'), ('o', 'JJ'), ('sambodromo', 'NN'), ('e', 'NN'), ('cuidar', 'NN'), ('do', 'VBP'), ('carnaval', 'JJ'), ('sem', 'VB'), ('encontrar', 'JJ'), ('os', 'NN'), ('bicheiros', 'NNS'), ('das', 'VBP'), ('escolas', 'FW'), ('de', 'FW'), ('samba', 'FW'), ('?', '.'), ('nos', 'JJ'), ('limites', 'VBZ'), ('em', 'JJ'), ('que', 'NN'), ('deus', 'NN'), ('controla', 'NN'), ('minha', 'NN'), ('lingua', 'SYM'), ('-', ':'), ('sou', 'NN'), ('justo', 'NN'), (',', ','), ('nao', 'IN'), ('me', 'PRP'), ('reprime', 'JJ'), ('nos', 'JJ'), ('dialogos', 'NN'), ('que', 'NN'), ('travamos', 'NN'), (',', ','), ('porque', 'NN'), ('deus', 'NN'), ('e', 'NN'), ('onisciente', 'IN'), ('mas', 'FW'), ('aceita', 'FW'), ('a', 'DT'), ('duvida', 'NN'), (',', ','), ('ao', 'VBP'), ('contrario', 'NN'), ('dos', 'NN'), ('bobalhoes', 'NNS'), ('togados', 'VB'), ('que', 'JJ'), ('te', 'NN'), ('condenaram', 'NN'), ('hoje', 'NN'), (',', ','), ('posso', 'NN'), ('te', 'NN'), ('contar', 'NN'), ('so', 'RB'), ('um', 'JJ'), ('pouquinho', 'NN'), ('.', '.'), ('posso', 'NN'), ('contar', 'NN'), (',', ','), ('apenas', 'NN'), (',', ','), ('o', 'JJ'), ('que', 'NN'), ('ja', 'NN'), ('escrevi', 'NN'), (',', ','), ('e', 'FW'), ('mando', 'FW'), ('este', 'NN'), ('menino', 'NN'), ('que', 'NN'), ('cavalgo', 'NN'), ('mentalmente', 'NN'), ('agora', 'NN'), (',', ','), ('va', 'NN'), ('buscar', 'NN'), ('no', 'DT'), ('meu', 'NN'), ('``', '``'), ('o', 'JJ'), ('povo', 'NN'), ('brasileiro', 'NN'), (\"''\", \"''\"), (':', ':'), ('cada', 'NN'), ('vez', 'NN'), ('que', 'NN'), ('um', 'JJ'), ('politico', 'NN'), ('nacionalista', 'NN'), ('ou', 'NN'), ('populista', 'NN'), ('se', 'NN'), ('encaminha', 'NN'), ('para', 'VBZ'), ('a', 'DT'), ('revisao', 'NN'), ('da', 'NN'), ('institucionalidade', 'NN'), (',', ','), ('as', 'IN'), ('classes', 'NNS'), ('dominantes', 'VBZ'), ('apelam', 'VBP'), ('para', 'VB'), ('a', 'DT'), ('repressao', 'NN'), ('e', 'VBZ'), ('a', 'DT'), ('forca', 'NN'), ('.', '.'), ('eu', 'CC'), ('mesmo', 'JJ'), ('sofri', 'NN'), ('isso', 'NN'), (',', ','), ('como', 'NN'), ('auxiliar', 'NN'), ('de', 'IN'), ('jango', 'NN'), ('.', '.'), ('so', 'IN'), ('me', 'PRP'), ('deixaram', 'VBP'), ('voltar', 'JJ'), ('aos', 'NN'), ('brasil', 'NN'), ('quando', 'NN'), ('acharam', 'SYM'), ('-', ':'), ('como', 'NN'), ('vao', 'NN'), ('achar', 'NN'), ('voce', 'SYM'), ('-', ':'), ('prestes', 'VBZ'), ('a', 'DT'), ('morrer', 'NN'), ('de', 'IN'), ('um', 'JJ'), ('cancer', 'NN'), ('que', 'NN'), ('me', 'PRP'), ('levou', 'JJ'), ('um', 'JJ'), ('pulmao', 'NN'), ('.', '.'), ('por', 'NN'), ('isso', 'NN'), (',', ','), ('te', 'NN'), ('digo', 'NN'), (',', ','), ('o', 'JJ'), ('que', 'NN'), ('e', 'NN'), ('ser', 'NN'), ('preso', 'NN'), ('perto', 'NN'), ('de', 'IN'), ('estar', 'FW'), ('na', 'FW'), ('iminencia', 'FW'), ('da', 'NN'), ('morte', 'NN'), ('?', '.'), ('nao', 'JJ'), ('e', 'NN'), ('a', 'DT'), ('primeira', 'NN'), ('vez', 'NN'), ('que', 'NN'), ('escrevo', 'NN'), ('sobre', 'NN'), ('voce', 'NN'), ('.', '.'), ('a', 'DT'), ('primeira', 'JJ'), ('foi', 'NN'), ('quando', 'NN'), ('ainda', 'NN'), ('estava', 'NN'), ('por', 'NN'), ('ai', 'NN'), (',', ','), ('em', 'NN'), ('1989', 'CD'), (',', ','), ('e', 'FW'), ('desabafei', 'NN'), (':', ':'), ('estou', 'VB'), ('me', 'PRP'), ('cansando', 'VB'), ('de', 'FW'), ('ouvir', 'FW'), ('falar', 'FW'), ('de', 'FW'), ('lula', 'FW'), ('com', 'NN'), ('descaso', 'NN'), ('.', '.'), ('qualquer', 'NN'), ('advogadinho', 'NN'), ('idiota', 'NN'), (',', ','), ('porque', 'NN'), ('formado', 'NN'), (',', ','), ('se', 'FW'), ('acha', 'FW'), ('melhor', 'NN'), ('que', 'NN'), ('ele', 'NN'), (',', ','), ('mais', 'FW'), ('preparado', 'NN'), ('para', 'NN'), ('governar', 'NN'), ('.', '.'), ('um', 'JJ'), ('intelectual', 'JJ'), ('desses', 'NNS'), ('que', 'VBP'), ('leu', 'JJ'), ('meia', 'NN'), ('duzia', 'NN'), ('de', 'IN'), ('livros', 'FW'), ('ou', 'FW'), ('escreveu', 'FW'), ('qualquer', 'NN'), ('bobagem', 'NN'), (',', ','), ('um', 'JJ'), ('tecnocrata', 'NN'), ('que', 'NN'), ('desempenhou', 'NN'), ('bem', 'NN'), ('ou', 'IN'), ('mal', 'JJ'), ('algum', 'NN'), ('cargo', 'NN'), (',', ','), ('todos', 'JJ'), ('se', 'NN'), ('acham', 'NN'), ('melhores', 'VBZ'), ('que', 'JJ'), ('lula', 'NN'), ('e', 'NN'), ('falam', 'NN'), ('dele', 'NN'), ('sem', 'JJ'), ('sombra', 'NN'), ('de', 'IN'), ('respeito', 'FW'), ('.', '.'), ('por', 'NN'), ('que', 'NN'), ('?', '.'), ('essa', 'JJ'), ('gente', 'NN'), ('pensa', 'NN'), ('que', 'NN'), ('o', 'NN'), ('exercicio', 'NN'), ('do', 'VBP'), ('poder', 'NN'), (',', ','), ('em', 'JJ'), ('postos', 'NN'), ('de', 'IN'), ('alta', 'FW'), ('responsabilidade', 'NN'), (',', ','), ('cabe', 'VB'), ('a', 'DT'), ('uma', 'JJ'), ('categoria', 'NN'), ('particularissima', 'NN'), ('de', 'IN'), ('pessoas', 'NN'), (',', ','), ('na', 'TO'), ('qual', 'JJ'), ('nao', 'NN'), ('incluiriam', 'NN'), ('jamais', 'NN'), ('um', 'JJ'), ('ex-operario', 'JJ'), ('ou', 'NN'), ('um', 'JJ'), ('lider', 'NN'), ('sindical', 'JJ'), (',', ','), ('ainda', 'JJ'), ('que', 'NN'), ('muito', 'VBD'), ('bem-sucedido', 'NN'), ('.', '.'), ('nao', 'JJ'), ('errei', 'NN'), (',', ','), ('nao', 'JJ'), ('e', 'NN'), ('?', '.'), ('nem', 'JJ'), ('eu', 'NN'), ('nem', 'NN'), ('voce', 'NN'), ('quisemos', 'FW'), ('ser', 'NN'), ('martires', 'NNS'), ('-', ':'), ('e', 'NN'), ('eles', 'NNS'), (',', ','), ('os', 'NN'), ('grandoes', 'NNS'), (',', ','), ('tambem', 'EX'), ('nao', 'JJ'), ('querem', 'NN'), (',', ','), ('porque', 'NN'), ('nao', 'JJ'), ('ha', 'NN'), ('midia', 'NN'), ('que', 'NN'), ('seja', 'NN'), ('capaz', 'NN'), ('de', 'IN'), ('vencer', 'NN'), ('martires', 'NNS'), ('.', '.'), ('mas', 'NN'), ('estes', 'VBZ'), ('caras', 'NNS'), ('sao', 'JJ'), ('tao', 'JJ'), ('imbecis', 'NN'), (',', ','), ('tao', 'NN'), ('idiotas', 'NNS'), (',', ','), ('que', 'JJ'), ('nos', 'FW'), ('fazem', 'JJ'), ('isso', 'NN'), ('.', '.'), ('como', 'NN'), ('eles', 'VBZ'), ('sao', 'JJ'), ('filhos', 'NN'), ('e', 'NN'), ('netos', 'FW'), ('de', 'FW'), ('senhores', 'FW'), ('de', 'FW'), ('escravos', 'FW'), (',', ','), ('acham', 'FW'), ('que', 'JJ'), ('nos', 'NNS'), ('atar', 'VBP'), ('ao', 'JJ'), ('tronco', 'NN'), ('e', 'NN'), ('vergastar', 'NN'), (',', ','), ('vai', 'FW'), ('encher', 'FW'), ('de', 'FW'), ('medo', 'FW'), ('a', 'DT'), ('senzala', 'NN'), ('.', '.'), ('na', 'CC'), ('hora', 'NN'), (',', ','), ('sim', 'NN'), (',', ','), ('que', 'JJ'), ('ninguem', 'FW'), ('e', 'FW'), ('bobo', 'FW'), ('de', 'FW'), ('querer', 'FW'), ('o', 'FW'), ('chicote', 'VBP'), ('no', 'DT'), ('lombo', 'NN'), (',', ','), ('mas', 'NN'), ('lhes', 'NNS'), ('vai', 'VBP'), ('endurecendo', 'JJ'), ('o', 'NN'), ('couro', 'NN'), ('das', 'NN'), ('mentes', 'VBZ'), ('e', 'VBP'), ('deixando', 'JJ'), ('que', 'NN'), ('elas', 'NNS'), ('nao', 'JJ'), ('aceitem', 'NN'), ('mais', 'VBD'), ('a', 'DT'), ('servidao', 'NN'), ('.', '.'), ('entao', 'NN'), (',', ','), ('lula', 'NN'), (',', ','), ('chore', 'NN'), ('esta', 'NN'), ('noite', 'JJ'), ('e', 'NN'), ('acorde', 'NN'), ('amanha', 'JJ'), ('livre', 'NN'), ('de', 'IN'), ('rancores', 'NNS'), ('.', '.'), ('como', 'NN'), ('um', 'JJ'), ('negro', 'NN'), ('fugido', 'NN'), (',', ','), ('que', 'JJ'), ('os', 'FW'), ('capitaes', 'NN'), ('de', 'IN'), ('mato', 'FW'), ('querem', 'FW'), ('enjaular', 'NN'), (',', ','), ('seja', 'NN'), ('sabido', 'NN'), ('.', '.'), ('eles', 'NNS'), ('verao', 'VBP'), ('um', 'JJ'), ('nordestino', 'NN'), (',', ','), ('que', 'NN'), ('mal', 'JJ'), ('escapou', 'NN'), ('de', 'IN'), ('ser', 'FW'), ('gabiru', 'NN'), (',', ','), ('virar', 'JJ'), ('ainda', 'NN'), ('mais', 'NN'), ('gigante', 'NN'), ('.', '.'), ('agora', 'NN'), (',', ','), ('por', 'NN'), ('favor', 'NN'), (',', ','), ('nao', 'IN'), ('me', 'PRP'), ('obrigue', 'VBP'), ('mais', 'VB'), ('a', 'DT'), ('estas', 'NN'), ('comunicacoes', 'VBZ'), ('psicograficas', 'JJ'), ('e', 'NN'), ('deixe', 'NN'), ('que', 'NN'), ('eu', 'NN'), ('as', 'IN'), ('reserve', 'NN'), ('para', 'VBP'), ('a', 'DT'), ('dona', 'NN'), ('diva', 'NN'), (',', ','), ('aquela', 'JJ'), ('negra', 'JJ'), ('linda', 'NN'), ('da', 'NN'), ('feira', 'NN'), ('literaria', 'NN'), ('de', 'IN'), ('parati', 'FW'), (',', ','), ('que', 'FW'), ('e', 'FW'), ('linda', 'FW'), ('e', 'FW'), ('20', 'CD'), ('e', 'NN'), ('tantos', 'NNS'), ('anos', 'VBP'), ('mais', 'JJ'), ('nova', 'JJ'), ('que', 'NN'), ('eu', 'NN'), ('-que', 'VBD'), ('a', 'DT'), ('catherine', 'NN'), ('deneuve', 'NN'), ('nos', 'JJ'), ('abencoe', 'NN'), ('.', '.'), ('quando', 'JJ'), ('eu', 'NN'), ('mandar', 'NN'), (',', ','), ('daqui', 'NN'), (',', ','), ('uma', 'JJ'), ('edicao', 'FW'), ('revisada', 'FW'), ('de', 'FW'), ('o', 'FW'), ('povo', 'NN'), ('brasileiro', 'NN'), (',', ','), ('prometo', 'NN'), (',', ','), ('cuido', 'NN'), ('do', 'VBP'), ('que', 'RB'), ('voce', 'VB'), ('e', 'NN'), (',', ','), ('a', 'DT'), ('metamorfose', 'JJ'), ('ambulante', 'NN'), ('com', 'NN'), ('que', 'NN'), ('se', 'JJ'), ('define', 'NN'), ('.', '.'), ('mas', 'NN'), (',', ','), ('antes', 'NNS'), (',', ','), ('estou', 'FW'), ('observando', 'FW'), ('a', 'DT'), ('borboleta', 'NN'), ('voar', 'NN'), ('.', '.')]\n",
      "X[2] [('afghanistan', 'NN'), (':', ':'), ('several', 'JJ'), ('people', 'NNS'), ('dead', 'JJ'), (',', ','), ('50', 'CD'), ('injured', 'VBN'), ('in', 'IN'), ('kabul', 'NN'), ('blast', 'NN'), ('a', 'DT'), ('bomb', 'NN'), ('hidden', 'NN'), ('in', 'IN'), ('an', 'DT'), ('ambulance', 'NN'), ('killed', 'VBN'), ('at', 'IN'), ('least', 'JJS'), ('103', 'CD'), ('people', 'NNS'), ('and', 'CC'), ('wounded', 'VBD'), ('about', 'RB'), ('191', 'CD'), ('at', 'IN'), ('a', 'DT'), ('police', 'NN'), ('checkpoint', 'NN'), ('in', 'IN'), ('the', 'DT'), ('afghan', 'JJ'), ('capital', 'NN'), ('kabul', 'NN'), ('saturday', 'NN'), (',', ','), ('in', 'IN'), ('an', 'DT'), ('area', 'NN'), ('near', 'IN'), ('foreign', 'JJ'), ('embassies', 'NNS'), ('and', 'CC'), ('government', 'NN'), ('buildings', 'NNS'), (',', ','), ('officials', 'NNS'), ('said', 'VBD'), ('.', '.'), ('related', 'VBN'), (':', ':'), ('11', 'CD'), ('wounded', 'VBD'), ('after', 'IN'), ('bomb', 'NN'), ('detonates', 'NNS'), ('outside', 'IN'), ('afghan', 'NN'), (\"'s\", 'POS'), ('save', 'VBP'), ('the', 'DT'), ('children', 'NNS'), ('premises', 'VBZ'), ('the', 'DT'), ('taliban', 'NN'), ('claimed', 'VBD'), ('responsibility', 'NN'), ('for', 'IN'), ('the', 'DT'), ('blast', 'NN'), (',', ','), ('a', 'DT'), ('week', 'NN'), ('after', 'IN'), ('it', 'PRP'), ('claimed', 'VBD'), ('an', 'DT'), ('attack', 'NN'), ('on', 'IN'), ('the', 'DT'), ('intercontinental', 'JJ'), ('hotel', 'NN'), ('in', 'IN'), ('kabul', 'NN'), ('in', 'IN'), ('which', 'WDT'), ('more', 'JJR'), ('than', 'IN'), ('20', 'CD'), ('people', 'NNS'), ('were', 'VBD'), ('killed', 'VBN'), ('.', '.'), ('``', '``'), ('it', 'PRP'), ('is', 'VBZ'), ('a', 'DT'), ('massacre', 'NN'), (',', ','), (\"''\", \"''\"), ('said', 'VBD'), ('dejan', 'NN'), ('panic', 'NN'), ('coordinator', 'NN'), ('in', 'IN'), ('afghanistan', 'NN'), ('for', 'IN'), ('the', 'DT'), ('italian', 'JJ'), ('aid', 'NN'), ('group', 'NN'), ('emergency', 'NN'), (',', ','), ('which', 'WDT'), ('runs', 'VBZ'), ('a', 'DT'), ('nearby', 'JJ'), ('trauma', 'NN'), ('hospital', 'NN'), ('.', '.'), ('in', 'IN'), ('a', 'DT'), ('message', 'NN'), ('on', 'IN'), ('twitter', 'NN'), (',', ','), ('the', 'DT'), ('group', 'NN'), ('said', 'VBD'), ('more', 'JJR'), ('than', 'IN'), ('50', 'CD'), ('wounded', 'VBD'), ('had', 'VBD'), ('been', 'VBN'), ('brought', 'VBN'), ('in', 'IN'), ('to', 'TO'), ('that', 'DT'), ('hospital', 'NN'), ('alone', 'RB'), ('.', '.'), ('a', 'DT'), ('spokesman', 'NN'), ('from', 'IN'), ('the', 'DT'), ('interior', 'JJ'), ('ministry', 'NN'), ('confirmed', 'VBD'), ('103', 'CD'), ('dead', 'JJ'), ('and', 'CC'), ('191', 'CD'), ('wounded', 'VBD'), ('had', 'VBD'), ('been', 'VBN'), ('brought', 'VBN'), ('to', 'TO'), ('city', 'NN'), ('hospitals', 'NNS'), (',', ','), ('according', 'VBG'), ('to', 'TO'), ('al', 'VB'), ('jazeera', 'NN'), ('.', '.'), ('mirwais', 'NN'), ('yasini', 'NN'), (',', ','), ('a', 'DT'), ('member', 'NN'), ('of', 'IN'), ('parliament', 'NN'), ('who', 'WP'), ('was', 'VBD'), ('nearby', 'RB'), ('when', 'WRB'), ('the', 'DT'), ('explosion', 'NN'), ('occurred', 'VBD'), (',', ','), ('said', 'VBD'), ('the', 'DT'), ('ambulance', 'NN'), ('approached', 'VBD'), ('the', 'DT'), ('checkpoint', 'NN'), (',', ','), ('close', 'RB'), ('to', 'TO'), ('an', 'DT'), ('office', 'NN'), ('of', 'IN'), ('the', 'DT'), ('high', 'JJ'), ('peace', 'NN'), ('council', 'NN'), ('and', 'CC'), ('several', 'JJ'), ('foreign', 'JJ'), ('embassies', 'NNS'), (',', ','), ('and', 'CC'), ('blew', 'VBD'), ('up', 'RB'), ('.', '.'), ('he', 'PRP'), ('said', 'VBD'), ('a', 'DT'), ('number', 'NN'), ('of', 'IN'), ('people', 'NNS'), ('were', 'VBD'), ('lying', 'VBG'), ('on', 'IN'), ('the', 'DT'), ('ground', 'NN'), ('.', '.'), ('people', 'NNS'), ('helped', 'VBD'), ('walking', 'VBG'), ('wounded', 'VBN'), ('away', 'RB'), ('as', 'IN'), ('ambulances', 'NNS'), ('with', 'IN'), ('sirens', 'NNS'), ('wailing', 'VBG'), ('inched', 'VBD'), ('their', 'PRP$'), ('way', 'NN'), ('through', 'IN'), ('the', 'DT'), ('traffic-clogged', 'JJ'), ('streets', 'NNS'), ('of', 'IN'), ('the', 'DT'), ('city', 'NN'), ('center', 'NN'), ('.', '.'), ('a', 'DT'), ('plume', 'NN'), ('of', 'IN'), ('gray', 'JJ'), ('smoke', 'NN'), ('rose', 'VBD'), ('from', 'IN'), ('the', 'DT'), ('blast', 'NN'), ('area', 'NN'), ('in', 'IN'), ('the', 'DT'), ('city', 'NN'), ('center', 'NN'), ('and', 'CC'), ('buildings', 'NNS'), ('hundreds', 'NNS'), ('of', 'IN'), ('meters', 'NNS'), ('away', 'RB'), ('were', 'VBD'), ('shaken', 'VBN'), ('by', 'IN'), ('the', 'DT'), ('force', 'NN'), ('of', 'IN'), ('the', 'DT'), ('explosion', 'NN'), ('.', '.')]\n"
     ]
    }
   ],
   "source": [
    "import nltk\n",
    "import unidecode\n",
    "\n",
    "def normalize_tokenize(text):\n",
    "    no_accents = unidecode.unidecode(text)\n",
    "    lowercased = no_accents.lower()\n",
    "    tokenized = nltk.word_tokenize(lowercased, language='portuguese')\n",
    "    tagged = nltk.pos_tag(tokenized)\n",
    "    \n",
    "    return tagged\n",
    "\n",
    "texts = [ normalize_tokenize(text) for text in X ]\n",
    "\n",
    "print(\"X[0]\", texts[0])\n",
    "print(\"X[1]\", texts[1])\n",
    "print(\"X[2]\", texts[2])"
   ]
  },
  {
   "cell_type": "code",
   "execution_count": 17,
   "metadata": {
    "scrolled": true
   },
   "outputs": [
    {
     "data": {
      "text/plain": [
       "'NN NN NN NN . VB JJ NN NN .'"
      ]
     },
     "execution_count": 17,
     "metadata": {},
     "output_type": "execute_result"
    }
   ],
   "source": [
    "tags = [ \" \".join([tag for (text, tag) in text_tag]) for text_tag in texts ] \n",
    "\n",
    "tags[0]"
   ]
  },
  {
   "cell_type": "code",
   "execution_count": 21,
   "metadata": {},
   "outputs": [
    {
     "name": "stdout",
     "output_type": "stream",
     "text": [
      "accuracy 0.6879194630872483\n",
      "f1 0.6455783617878381\n",
      "positive_recall 0.9565217391304348\n"
     ]
    }
   ],
   "source": [
    "from sklearn.feature_extraction.text import CountVectorizer\n",
    "from sklearn.feature_extraction.text import TfidfTransformer\n",
    "from sklearn.naive_bayes import MultinomialNB\n",
    "from imblearn.under_sampling import RandomUnderSampler\n",
    "from imblearn.pipeline import Pipeline\n",
    "from sklearn.model_selection import train_test_split\n",
    "from sklearn.metrics import classification_report, confusion_matrix, f1_score, make_scorer, recall_score\n",
    "\n",
    "X_train, X_test, y_train, y_test = train_test_split(tags, y)\n",
    "\n",
    "pipeline = Pipeline([\n",
    "    ('vect', CountVectorizer(strip_accents='ascii',\n",
    "                                     ngram_range=(2, 1))),\n",
    "            ('tfidf', TfidfTransformer()),\n",
    "        ('sampling', RandomUnderSampler()),\n",
    "        ('clf', MultinomialNB())\n",
    "    ])\n",
    "\n",
    "clf = pipeline.fit(X_train, y_train)\n",
    "accuracy = clf.score(X_test, y_test)\n",
    "print(\"accuracy\", accuracy)\n",
    "\n",
    "y_pred = clf.predict(X_test)\n",
    "avg_f1 = (f1_score(y_test, y_pred, pos_label=False) + f1_score(y_test, y_pred)) / 2\n",
    "positive_recall = recall_score(y_test, y_pred)\n",
    "\n",
    "print(\"f1\", avg_f1)\n",
    "print(\"positive_recall\", positive_recall)"
   ]
  },
  {
   "cell_type": "code",
   "execution_count": null,
   "metadata": {},
   "outputs": [],
   "source": []
  },
  {
   "cell_type": "code",
   "execution_count": null,
   "metadata": {},
   "outputs": [],
   "source": []
  }
 ],
 "metadata": {
  "kernelspec": {
   "display_name": "Python 3",
   "language": "python",
   "name": "python3"
  },
  "language_info": {
   "codemirror_mode": {
    "name": "ipython",
    "version": 3
   },
   "file_extension": ".py",
   "mimetype": "text/x-python",
   "name": "python",
   "nbconvert_exporter": "python",
   "pygments_lexer": "ipython3",
   "version": "3.6.4"
  }
 },
 "nbformat": 4,
 "nbformat_minor": 2
}
